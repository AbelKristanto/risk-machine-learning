{
  "nbformat": 4,
  "nbformat_minor": 0,
  "metadata": {
    "colab": {
      "name": "phishing-detection.ipynb",
      "provenance": [],
      "authorship_tag": "ABX9TyNYSp8FodRGPCGrWeoftarK"
    },
    "kernelspec": {
      "name": "python3",
      "display_name": "Python 3"
    },
    "language_info": {
      "name": "python"
    }
  },
  "cells": [
    {
      "cell_type": "markdown",
      "metadata": {
        "id": "PurFRi22e9w6"
      },
      "source": [
        "**Remarks**\n",
        "\n",
        "We will learn more about phishing detection or act of defrauding an online user in order to obtain personal information by posing as a trustworthy institution or entity."
      ]
    },
    {
      "cell_type": "code",
      "metadata": {
        "id": "Bk8YaTXNec6Q"
      },
      "source": [
        "# data preparation\n",
        "import pandas as pd\n",
        "import zipfile\n",
        "with zipfile.ZipFile('../content/phishing.zip', 'r') as z:\n",
        "  f = z.open('phishing.csv')\n",
        "  data = pd.read_csv(f, index_col=False)"
      ],
      "execution_count": 2,
      "outputs": []
    },
    {
      "cell_type": "code",
      "metadata": {
        "colab": {
          "base_uri": "https://localhost:8080/",
          "height": 204
        },
        "id": "ncA8gEDgffn5",
        "outputId": "604fcf42-89bf-43af-bed1-be08b1b414c4"
      },
      "source": [
        "# show the data\n",
        "data.head()"
      ],
      "execution_count": 3,
      "outputs": [
        {
          "output_type": "execute_result",
          "data": {
            "text/html": [
              "<div>\n",
              "<style scoped>\n",
              "    .dataframe tbody tr th:only-of-type {\n",
              "        vertical-align: middle;\n",
              "    }\n",
              "\n",
              "    .dataframe tbody tr th {\n",
              "        vertical-align: top;\n",
              "    }\n",
              "\n",
              "    .dataframe thead th {\n",
              "        text-align: right;\n",
              "    }\n",
              "</style>\n",
              "<table border=\"1\" class=\"dataframe\">\n",
              "  <thead>\n",
              "    <tr style=\"text-align: right;\">\n",
              "      <th></th>\n",
              "      <th>url</th>\n",
              "      <th>phishing</th>\n",
              "    </tr>\n",
              "  </thead>\n",
              "  <tbody>\n",
              "    <tr>\n",
              "      <th>0</th>\n",
              "      <td>http://www.subalipack.com/contact/images/sampl...</td>\n",
              "      <td>1</td>\n",
              "    </tr>\n",
              "    <tr>\n",
              "      <th>1</th>\n",
              "      <td>http://fasc.maximecapellot-gypsyjazz-ensemble....</td>\n",
              "      <td>1</td>\n",
              "    </tr>\n",
              "    <tr>\n",
              "      <th>2</th>\n",
              "      <td>http://theotheragency.com/confirmer/confirmer-...</td>\n",
              "      <td>1</td>\n",
              "    </tr>\n",
              "    <tr>\n",
              "      <th>3</th>\n",
              "      <td>http://aaalandscaping.com/components/com_smart...</td>\n",
              "      <td>1</td>\n",
              "    </tr>\n",
              "    <tr>\n",
              "      <th>4</th>\n",
              "      <td>http://paypal.com.confirm-key-21107316126168.s...</td>\n",
              "      <td>1</td>\n",
              "    </tr>\n",
              "  </tbody>\n",
              "</table>\n",
              "</div>"
            ],
            "text/plain": [
              "                                                 url  phishing\n",
              "0  http://www.subalipack.com/contact/images/sampl...         1\n",
              "1  http://fasc.maximecapellot-gypsyjazz-ensemble....         1\n",
              "2  http://theotheragency.com/confirmer/confirmer-...         1\n",
              "3  http://aaalandscaping.com/components/com_smart...         1\n",
              "4  http://paypal.com.confirm-key-21107316126168.s...         1"
            ]
          },
          "metadata": {
            "tags": []
          },
          "execution_count": 3
        }
      ]
    },
    {
      "cell_type": "code",
      "metadata": {
        "colab": {
          "base_uri": "https://localhost:8080/"
        },
        "id": "4xQWH2h0f8Lk",
        "outputId": "5d22826a-1d59-4f67-8efb-2b2545ce2c67"
      },
      "source": [
        "# count data\n",
        "print(\"Number of phishing (1) or not (0):\\n{}\".format(data.phishing.value_counts()))"
      ],
      "execution_count": 4,
      "outputs": [
        {
          "output_type": "stream",
          "text": [
            "Number of phishing (1) or not (0):\n",
            "1    20000\n",
            "0    20000\n",
            "Name: phishing, dtype: int64\n"
          ],
          "name": "stdout"
        }
      ]
    },
    {
      "cell_type": "code",
      "metadata": {
        "colab": {
          "base_uri": "https://localhost:8080/"
        },
        "id": "q_XgbJYtgJj3",
        "outputId": "04f69e14-623c-4927-c9b7-9dc055ba508b"
      },
      "source": [
        "# create features data\n",
        "data.url[data.phishing==1].sample(50, random_state=1).tolist()"
      ],
      "execution_count": 5,
      "outputs": [
        {
          "output_type": "execute_result",
          "data": {
            "text/plain": [
              "['http://dothan.com.co/gold/austspark/index.htm\\n',\n",
              " 'http://78.142.63.63/%7Enetsysco/process/fc1d9c7ea4773b7ff90925c2902cb5f2\\n',\n",
              " 'http://verify95.5gbfree.com/coverme2010/\\n',\n",
              " 'http://www.racom.com/uploads/productscat/bookmark/ii.php?.rand=13vqcr8bp0gud&cbcxt=mai&email=abuse@tradinghouse.ca\\n',\n",
              " 'http://www.cleanenergytci.com/components/update.logon.l3an7lofamerica/2342343234532534546347677898765432876543345687656543876/\\n',\n",
              " 'http://209.148.89.163/-/santander.co.uk/weblegn/AccountLogin.php\\n',\n",
              " 'http://senevi.com/confirmation/\\n',\n",
              " 'http://www.hellenkeller.cl/tmp/new/noticias/Modulo_de_Atualizacao_Bradesco/index2.php?id=PSO1AM04L3Q6PSBNVJ82QUCO0L5GBSY2KM2U9BYUEO14HCRDVZEMTRB3DGJO9HPT4ROC4M8HA8LRJD5FCJ27AD0NTSC3A3VDUJQX6XFG519OED4RW6Y8J8VC19EAAAO5UF21CHGHIP7W4AO1GM8ZU4BUBQ6L2UQVARVM\\n',\n",
              " 'http://internet-sicherheit.co/de/konflikt/src%3Dde/AZ00276ZZ75/we%3Dhs_0_2/sicherheit/konto_verifizieren/verifizierung.php\\n',\n",
              " 'http://alen.co/docs/cleaner\\n',\n",
              " 'http://rattanhouse.co/Atualizacao_Bradesco/cadastro2013.php?2MAS2XACUJPI3U8D9ZDDG2G9YJICVABQ3K73KWDKYK0NA0AWWWCOUEDUJRXHRKPNMUYLDV89RA6OCG2MQUS0TAUXX9IOGJUEIXPDS5B0RM18OF1H860UAMJOY6ICUR81VSEKKJFPBYNLYGUXBGJ1HEHKOMLTM01P658M\\n',\n",
              " 'http://steamcommunily.co/p.php?login=true\\n',\n",
              " 'http://www.nyyg.com/Bradesco/5W9SQ394.html\\n',\n",
              " 'http://wp.tipografiacentral.com.co/sparkde/index.html\\n',\n",
              " 'http://www.entrerev.com/component/.secure.wpa/.www.paypal.com.returnUrl=/cgi-bin/5RF3S6y0K349/PayPal.co.uk/dispute_centre/sotmks/npsw&st.payment.decline.centre/ipoi/secure-codes.paypal.account4738154login.complete-infrmations.login.accountSecure26/securities/\\n',\n",
              " 'http://x.co/SecurCent\\n',\n",
              " 'http://dejatequerer.co/united.com/index.html\\n',\n",
              " 'http://www.speakeasymovies.com/components/com_wrapper/.amazon.co.uk/\\n',\n",
              " 'http://www.culturaespanola.com.br/bt/www.paypal.com/paypal.com.com/index-new.php\\n',\n",
              " 'http://www.agroassistance.com/components/com_content/c05354aa285b6a932a57086ba13762a1/\\n',\n",
              " 'http://www.estranetsrl.com.ar/bbvacambios.html\\n',\n",
              " 'http://osfsw.cba.pl/content/classic/html/ibpf/bradesco/?UOREEIYGQTERIRVSJTUHMVMZJWWYSVNYQOFSPWVFTEJEEKMJWHFERRYTFRWPSYYWGFIGJUPLZMZLTNSKOGMQQSHSXPLMXILVSM\\n',\n",
              " 'http://bitcrush.co/~geetha5/natwest/natwest/ibcarregister-natwst.html\\n',\n",
              " 'http://cannot-hide-from-PhishTank.zenith-services.com/controllare/auth/\\n',\n",
              " 'http://nova.pymesonline.co/fr.php\\n',\n",
              " 'http://comococino.com/wp-content/uploads/2013/01/paypal.com/us/cgi-bin/webscr.htm?\\n',\n",
              " 'http://www.fundacionchwinqlal.com.gt/imgs/Notas/img/_New/Agencias_Bradesco/Public_201133.php?KSR6YOU359CY1USIRMSBI8CFJF7TVREFJ6KIUFKZNXXNRP7JBYVU79APNGJI8YYR5I0YXUXLRU0JKF4WEYQL81BUGVDOTBFXUPVSKSEBNNU84X4IWT54UFYABCY5OE3J5XBOQQ1EDVMHTPZPJ4TEJSOU5NZS32B8ZNWQ\\n',\n",
              " 'http://flightripe.com/confirmation/update/billing/9a523c6017caa3406af9d5c2c0cb1854/\\n',\n",
              " 'http://accademiazerootto.it/templates/zerootto-new/html/com_content/category/bompreco.php\\n',\n",
              " 'http://santanderseguranca.zapto.org/Clientesx/\\n',\n",
              " 'http://www.muttico.com/components/com_media/p3rs0na4l/53f8b14c76c890e1806b8f9d97f12f80/\\n',\n",
              " 'http://us.fxlhtvf.ml/login/en/login.html.asp?refhttp:%2F%2Futddirect.com%2Fcomponents%2Fcom_content%2Fviews%2Fcategories%2Fmenu.html\\n',\n",
              " 'http://conferencistainternacional.com.co/urruirrhyttjk/Index.htm\\n',\n",
              " 'http://www.creativesovereign.com/components/com_newsfeeds/views/.../perfil/\\n',\n",
              " 'http://villamarina.com.co/administrator/servers/BankofAmerica/security-update/SecMeasure/account-overview.cgi/presentation/jskeys/sas/signonScreen.do/\\n',\n",
              " 'http://www.vipturismolondres.com/com.br/?atendimento=Cliente&/LgSgkszm64/B8aNzHa8Aj.php\\n',\n",
              " 'http://www.enoxia.fr/components/com_content/tamfidelidade01.php\\n',\n",
              " 'http://gobbva.com/bb/empresa/index.php?tarjeta=\\n',\n",
              " 'http://paypal-com-confim.sharmikelectric.com/s4575234bf5055889415\\n',\n",
              " 'http://paypal.com.au.au.webapps.mpp.homes.konyadosemeciler.com/confirm/login.australia/au/webapps/mpp/home/initthi.php?cmd=SignIn&co_partnerId=2&pUserId=&siteid=0&pageType=&pa1=&i1=&bshowgif=&UsingSSL=&ru=&pp=&pa2=&errmsg=&runame=%5C%5C%5C%5C\\n',\n",
              " 'http://www.bbvabancocontinental.ya.st\\n',\n",
              " 'http://www.giannielectric.com/company/components/com_poll/assets/a/a5643cded2383f7568719482a943e1a5\\n',\n",
              " 'http://cooperativasanjose.com.co/plugins/josetta_ext/k2category/section/first.php\\n',\n",
              " 'http://appleid-apple-com-confirm-oyns-uattw6w61x3oka3pq.scientificcollectables.com/3c43e3d92e0b8a48f09f5fbb25d008a9/index1.php?cmd=https://connect.paypal.com/WebObjects/iTunesConnect.woa?login-processing=t&login_access=13409884065d3a174c294a9bf21bf71c23a3\\n',\n",
              " 'http://consultoriojuridico.co/pp/www.paypal.com/\\n',\n",
              " 'http://lovetodo.in.th/administrator/components/com_content/models/key/\\n',\n",
              " 'http://lnk.co/io6u45y45?erydh?mario.Carelli@poste.it\\n',\n",
              " 'http://www2.bancobbvacontnental.com/Centroll/informe/03/14/datitarlz/WUJFQ0VSUkFATVVOSVpMQVcuQ09N\\n',\n",
              " 'http://lfcintl.com/components/com_user/zzxc/bpd.com.do/app/do/personas/289302294350311363178310441412402464323394411438376403437407/banco.popular.php?Personal\\n',\n",
              " 'http://procuraduria.videoteca.com.co/update/apple.com/.cgi-bin/WebObjects/MyAppleIdwoa/wa/sign_in.html?appId=4129.returnURL=DaHR0cDovL3N0b3JlLmFwcGxlLmNvbS91c3wxYW9zZmU4OGZjNWIyNThhYWVhOTM5MzVjZjI2NTk1OGE3MWUwY2Y0MmI2OA%26r%3DSDHCD9JUYKX777H9KT\\n']"
            ]
          },
          "metadata": {
            "tags": []
          },
          "execution_count": 5
        }
      ]
    },
    {
      "cell_type": "markdown",
      "metadata": {
        "id": "P_C9iMPSgn_w"
      },
      "source": [
        "We can conclude that **features** from the data above, \"https\", \"login\", \".php\", \".html\", \"@\", \"sign\"."
      ]
    },
    {
      "cell_type": "code",
      "metadata": {
        "id": "gqYFM1C3gjpp"
      },
      "source": [
        "keywords = [\"https\", \"login\", \".php\", \".html\", \"@\", \"sign\"]"
      ],
      "execution_count": 6,
      "outputs": []
    },
    {
      "cell_type": "code",
      "metadata": {
        "id": "g9vYfjg2g7d0"
      },
      "source": [
        "for keyword in keywords:\n",
        "  data['keyword_' + keyword] = data.url.str.contains(keyword).astype(int)"
      ],
      "execution_count": 7,
      "outputs": []
    },
    {
      "cell_type": "code",
      "metadata": {
        "id": "pQHe-ODMhQnL"
      },
      "source": [
        "data['length'] = data.url.str.len() - 2\n",
        "domain = data.url.str.split('/', expand=True).iloc[:,2]\n",
        "data['length_domain'] = domain.str.len()"
      ],
      "execution_count": 8,
      "outputs": []
    },
    {
      "cell_type": "code",
      "metadata": {
        "colab": {
          "base_uri": "https://localhost:8080/"
        },
        "id": "oS70ldvihw7q",
        "outputId": "a4f3e277-10f0-431f-f98d-3ff89e74afd5"
      },
      "source": [
        "domain.head(5)"
      ],
      "execution_count": 9,
      "outputs": [
        {
          "output_type": "execute_result",
          "data": {
            "text/plain": [
              "0                                   www.subalipack.com\n",
              "1            fasc.maximecapellot-gypsyjazz-ensemble.nl\n",
              "2                                   theotheragency.com\n",
              "3                                   aaalandscaping.com\n",
              "4    paypal.com.confirm-key-21107316126168.securepp...\n",
              "Name: 2, dtype: object"
            ]
          },
          "metadata": {
            "tags": []
          },
          "execution_count": 9
        }
      ]
    },
    {
      "cell_type": "code",
      "metadata": {
        "id": "ow1dsw_thytP"
      },
      "source": [
        "data['IPonly'] = (domain.str.replace('.', '') * 1).str.isnumeric().astype(int)\n",
        "data['count_com'] = data.url.str.count('com')"
      ],
      "execution_count": 10,
      "outputs": []
    },
    {
      "cell_type": "code",
      "metadata": {
        "colab": {
          "base_uri": "https://localhost:8080/",
          "height": 224
        },
        "id": "ipPjf9j0iI-1",
        "outputId": "94b80d9c-38a3-47f2-d42c-d728131961f6"
      },
      "source": [
        "# retrieve sample data\n",
        "data.sample(5, random_state=42)"
      ],
      "execution_count": 11,
      "outputs": [
        {
          "output_type": "execute_result",
          "data": {
            "text/html": [
              "<div>\n",
              "<style scoped>\n",
              "    .dataframe tbody tr th:only-of-type {\n",
              "        vertical-align: middle;\n",
              "    }\n",
              "\n",
              "    .dataframe tbody tr th {\n",
              "        vertical-align: top;\n",
              "    }\n",
              "\n",
              "    .dataframe thead th {\n",
              "        text-align: right;\n",
              "    }\n",
              "</style>\n",
              "<table border=\"1\" class=\"dataframe\">\n",
              "  <thead>\n",
              "    <tr style=\"text-align: right;\">\n",
              "      <th></th>\n",
              "      <th>url</th>\n",
              "      <th>phishing</th>\n",
              "      <th>keyword_https</th>\n",
              "      <th>keyword_login</th>\n",
              "      <th>keyword_.php</th>\n",
              "      <th>keyword_.html</th>\n",
              "      <th>keyword_@</th>\n",
              "      <th>keyword_sign</th>\n",
              "      <th>length</th>\n",
              "      <th>length_domain</th>\n",
              "      <th>IPonly</th>\n",
              "      <th>count_com</th>\n",
              "    </tr>\n",
              "  </thead>\n",
              "  <tbody>\n",
              "    <tr>\n",
              "      <th>32823</th>\n",
              "      <td>http://gamvis.blogspot.com/2009_12_20_archive....</td>\n",
              "      <td>0</td>\n",
              "      <td>0</td>\n",
              "      <td>0</td>\n",
              "      <td>0</td>\n",
              "      <td>1</td>\n",
              "      <td>0</td>\n",
              "      <td>0</td>\n",
              "      <td>49</td>\n",
              "      <td>19</td>\n",
              "      <td>0</td>\n",
              "      <td>1</td>\n",
              "    </tr>\n",
              "    <tr>\n",
              "      <th>16298</th>\n",
              "      <td>http://oseethiopia.com/components/com_weblinks...</td>\n",
              "      <td>1</td>\n",
              "      <td>0</td>\n",
              "      <td>0</td>\n",
              "      <td>0</td>\n",
              "      <td>0</td>\n",
              "      <td>0</td>\n",
              "      <td>0</td>\n",
              "      <td>92</td>\n",
              "      <td>15</td>\n",
              "      <td>0</td>\n",
              "      <td>3</td>\n",
              "    </tr>\n",
              "    <tr>\n",
              "      <th>28505</th>\n",
              "      <td>http://kooba.com/store/sale.html?color=86&amp;styl...</td>\n",
              "      <td>0</td>\n",
              "      <td>0</td>\n",
              "      <td>0</td>\n",
              "      <td>0</td>\n",
              "      <td>1</td>\n",
              "      <td>0</td>\n",
              "      <td>0</td>\n",
              "      <td>49</td>\n",
              "      <td>9</td>\n",
              "      <td>0</td>\n",
              "      <td>1</td>\n",
              "    </tr>\n",
              "    <tr>\n",
              "      <th>6689</th>\n",
              "      <td>http://lnk.co/IULO67I67?fregrtuh?rthtyj?cesare...</td>\n",
              "      <td>1</td>\n",
              "      <td>0</td>\n",
              "      <td>0</td>\n",
              "      <td>0</td>\n",
              "      <td>0</td>\n",
              "      <td>1</td>\n",
              "      <td>0</td>\n",
              "      <td>62</td>\n",
              "      <td>6</td>\n",
              "      <td>0</td>\n",
              "      <td>0</td>\n",
              "    </tr>\n",
              "    <tr>\n",
              "      <th>26893</th>\n",
              "      <td>http://www.richardsonrfpd.com/Pages/Product-De...</td>\n",
              "      <td>0</td>\n",
              "      <td>0</td>\n",
              "      <td>0</td>\n",
              "      <td>0</td>\n",
              "      <td>0</td>\n",
              "      <td>0</td>\n",
              "      <td>0</td>\n",
              "      <td>72</td>\n",
              "      <td>22</td>\n",
              "      <td>0</td>\n",
              "      <td>1</td>\n",
              "    </tr>\n",
              "  </tbody>\n",
              "</table>\n",
              "</div>"
            ],
            "text/plain": [
              "                                                     url  ...  count_com\n",
              "32823  http://gamvis.blogspot.com/2009_12_20_archive....  ...          1\n",
              "16298  http://oseethiopia.com/components/com_weblinks...  ...          3\n",
              "28505  http://kooba.com/store/sale.html?color=86&styl...  ...          1\n",
              "6689   http://lnk.co/IULO67I67?fregrtuh?rthtyj?cesare...  ...          0\n",
              "26893  http://www.richardsonrfpd.com/Pages/Product-De...  ...          1\n",
              "\n",
              "[5 rows x 12 columns]"
            ]
          },
          "metadata": {
            "tags": []
          },
          "execution_count": 11
        }
      ]
    },
    {
      "cell_type": "markdown",
      "metadata": {
        "id": "OkNfQCzniqY8"
      },
      "source": [
        "We build **the model** based on data."
      ]
    },
    {
      "cell_type": "code",
      "metadata": {
        "colab": {
          "base_uri": "https://localhost:8080/"
        },
        "id": "g713tzM8iObl",
        "outputId": "606cfc68-999c-4630-c34d-b140ea424065"
      },
      "source": [
        "X = data.drop([\"url\", \"phishing\"], axis=1)\n",
        "y = data.phishing\n",
        "\n",
        "from sklearn.ensemble import RandomForestClassifier\n",
        "from sklearn.model_selection import cross_val_score\n",
        "\n",
        "# prepare model\n",
        "clf = RandomForestClassifier(n_jobs=-1, n_estimators=100)\n",
        "cross_val_score(clf, X, y, cv=10)\n",
        "# fitting data\n",
        "clf.fit(X,y)\n",
        "\n",
        "# saving model\n",
        "from sklearn.externals import joblib\n",
        "joblib.dump(clf, '../content/phishing_model.pkl', compress=3)"
      ],
      "execution_count": 12,
      "outputs": [
        {
          "output_type": "stream",
          "text": [
            "/usr/local/lib/python3.7/dist-packages/sklearn/externals/joblib/__init__.py:15: FutureWarning: sklearn.externals.joblib is deprecated in 0.21 and will be removed in 0.23. Please import this functionality directly from joblib, which can be installed with: pip install joblib. If this warning is raised when loading pickled models, you may need to re-serialize those models with scikit-learn 0.21+.\n",
            "  warnings.warn(msg, category=FutureWarning)\n"
          ],
          "name": "stderr"
        },
        {
          "output_type": "execute_result",
          "data": {
            "text/plain": [
              "['../content/phishing_model.pkl']"
            ]
          },
          "metadata": {
            "tags": []
          },
          "execution_count": 12
        }
      ]
    },
    {
      "cell_type": "markdown",
      "metadata": {
        "id": "5V-odi0AjZrD"
      },
      "source": [
        "We create model in **API**."
      ]
    },
    {
      "cell_type": "code",
      "metadata": {
        "id": "w1D_q1JbjWEl"
      },
      "source": [
        "# install flask\n",
        "!pip install flask-restplus"
      ],
      "execution_count": 17,
      "outputs": []
    },
    {
      "cell_type": "code",
      "metadata": {
        "id": "ETW416Qpj0Ec"
      },
      "source": [
        "from flask import Flask\n",
        "import werkzeug\n",
        "werkzeug.cached_property = werkzeug.utils.cached_property\n",
        "from flask_restplus import Api, Resource, fields\n",
        "from sklearn.externals import joblib\n",
        "import pandas as pd"
      ],
      "execution_count": 21,
      "outputs": []
    },
    {
      "cell_type": "code",
      "metadata": {
        "id": "9lJ5ayao7Bgh"
      },
      "source": [
        "# create API\n",
        "app = Flask(__name__)\n",
        "\n",
        "api = Api(\n",
        "    app,\n",
        "    version='1.0',\n",
        "    title='Phishing Prediction API',\n",
        "    description='Phishing Prediction API'\n",
        ")\n",
        "\n",
        "ns = api.namespace('predict',\n",
        "                   description='Phishing Classifier')\n",
        "\n",
        "parser = api.parser()\n",
        "\n",
        "parser.add_argument(\n",
        "    'URL',\n",
        "    type=str,\n",
        "    required=True, \n",
        "    help='URL to be analyzed',\n",
        "    location='args'\n",
        ")\n",
        "\n",
        "resource_fields = api.model('Resource', {\n",
        "    'result': fields.String,\n",
        "})"
      ],
      "execution_count": 23,
      "outputs": []
    },
    {
      "cell_type": "code",
      "metadata": {
        "id": "nzfEisX-83gg"
      },
      "source": [
        "# load model to FLASK\n",
        "clf = joblib.load('../content/phishing_model.pkl')\n",
        "\n",
        "@ns.route('/')\n",
        "class PhishingApi(Resource):\n",
        "\n",
        "  @api.doc(parser=parser)\n",
        "  @api.marshal_with(resource_fields)\n",
        "  def get(self):\n",
        "    args = parser.parse_args()\n",
        "    result = self.predict_proba(args)\n",
        "    return result, 200\n",
        "  \n",
        "  def predict_proba(self, args):\n",
        "    url = args[\"URL\"]\n",
        "    url_ = pd.DataFrame([url], columns=['url'])\n",
        "\n",
        "    # create features\n",
        "    keywords = ['https', 'login', '.php', '.html', '@', 'sign']\n",
        "    for keyword in keywords:\n",
        "      url_['keyword_' + keyword] = url_.url.str.contains(keyword).astype(int)\n",
        "    \n",
        "    url_['lenght'] = url_.url.str.len() - 2\n",
        "    domain = url_.url.str.split('/', expand=True).iloc[:, 2]\n",
        "    url_['lenght_domain'] = domain.str.len()\n",
        "    url_['isIP'] = (url_.url.str.replace('.', '') * 1).str.isnumeric().astype(int)\n",
        "    url_['count_com'] = url_.url.str.count('com')\n",
        "\n",
        "    # create prediction\n",
        "    pred = clf.predict_proba(url_.drop('url', axis=1))[0,1]\n",
        "\n",
        "    print('url=', url, '| prediction = ', pred)\n",
        "\n",
        "    return {\n",
        "        \"result \" : pred\n",
        "    }"
      ],
      "execution_count": 24,
      "outputs": []
    },
    {
      "cell_type": "code",
      "metadata": {
        "colab": {
          "base_uri": "https://localhost:8080/"
        },
        "id": "FyGAI5QseUOu",
        "outputId": "6a3b3b4e-ec6f-4c52-e32d-94089cb6fd8f"
      },
      "source": [
        "# running API\n",
        "app.run(debug=True, use_reloader=False, host='0.0.0.0', port=5000)"
      ],
      "execution_count": 26,
      "outputs": [
        {
          "output_type": "stream",
          "text": [
            " * Serving Flask app \"__main__\" (lazy loading)\n",
            " * Environment: production\n",
            "\u001b[31m   WARNING: This is a development server. Do not use it in a production deployment.\u001b[0m\n",
            "\u001b[2m   Use a production WSGI server instead.\u001b[0m\n",
            " * Debug mode: on\n"
          ],
          "name": "stdout"
        },
        {
          "output_type": "stream",
          "text": [
            " * Running on http://0.0.0.0:5000/ (Press CTRL+C to quit)\n"
          ],
          "name": "stderr"
        }
      ]
    }
  ]
}