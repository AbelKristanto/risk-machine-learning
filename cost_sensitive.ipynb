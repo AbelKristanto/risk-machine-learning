{
  "nbformat": 4,
  "nbformat_minor": 0,
  "metadata": {
    "colab": {
      "name": "cost-sensitive.ipynb",
      "provenance": [],
      "authorship_tag": "ABX9TyOezlWxOXqycaATufj8dkKk"
    },
    "kernelspec": {
      "name": "python3",
      "display_name": "Python 3"
    },
    "language_info": {
      "name": "python"
    }
  },
  "cells": [
    {
      "cell_type": "code",
      "metadata": {
        "id": "Xckwtiu6E9Ps"
      },
      "source": [
        "# install new libraries\n",
        "pip install costcla"
      ],
      "execution_count": 2,
      "outputs": []
    },
    {
      "cell_type": "markdown",
      "metadata": {
        "id": "y0VdJ-RrKzi4"
      },
      "source": [
        "**Remarks**\n",
        "\n",
        "In this part, we will learn about credit scoring. Do you what credit scoring is? Credit scoring is to classify which potential customers are likely to default a contracted financial obligation based on the customer's past financial experience, and with that information decide whether to approve or decline a loan."
      ]
    },
    {
      "cell_type": "code",
      "metadata": {
        "colab": {
          "base_uri": "https://localhost:8080/"
        },
        "id": "m8ALSjn3K-4_",
        "outputId": "c443d667-6cfa-4444-d354-74e3f301ef84"
      },
      "source": [
        "# load dataset and library\n",
        "import pandas as pd\n",
        "import numpy as np\n",
        "from costcla.datasets import load_creditscoring1\n",
        "\n",
        "# generate data\n",
        "data = load_creditscoring1()\n",
        "print(data.keys())"
      ],
      "execution_count": 5,
      "outputs": [
        {
          "output_type": "stream",
          "text": [
            "dict_keys(['data', 'target', 'cost_mat', 'target_names', 'DESCR', 'feature_names', 'name'])\n"
          ],
          "name": "stdout"
        }
      ]
    },
    {
      "cell_type": "code",
      "metadata": {
        "colab": {
          "base_uri": "https://localhost:8080/",
          "height": 241
        },
        "id": "99cVWUa_MQGP",
        "outputId": "6803b403-8d80-4198-998e-5a1fb14c0ce9"
      },
      "source": [
        "# ingest data.data\n",
        "feature = pd.DataFrame(data.data, columns = data.feature_names)\n",
        "feature.head()"
      ],
      "execution_count": 7,
      "outputs": [
        {
          "output_type": "execute_result",
          "data": {
            "text/html": [
              "<div>\n",
              "<style scoped>\n",
              "    .dataframe tbody tr th:only-of-type {\n",
              "        vertical-align: middle;\n",
              "    }\n",
              "\n",
              "    .dataframe tbody tr th {\n",
              "        vertical-align: top;\n",
              "    }\n",
              "\n",
              "    .dataframe thead th {\n",
              "        text-align: right;\n",
              "    }\n",
              "</style>\n",
              "<table border=\"1\" class=\"dataframe\">\n",
              "  <thead>\n",
              "    <tr style=\"text-align: right;\">\n",
              "      <th></th>\n",
              "      <th>RevolvingUtilizationOfUnsecuredLines</th>\n",
              "      <th>age</th>\n",
              "      <th>NumberOfTime30-59DaysPastDueNotWorse</th>\n",
              "      <th>DebtRatio</th>\n",
              "      <th>MonthlyIncome</th>\n",
              "      <th>NumberOfOpenCreditLinesAndLoans</th>\n",
              "      <th>NumberOfTimes90DaysLate</th>\n",
              "      <th>NumberRealEstateLoansOrLines</th>\n",
              "      <th>NumberOfTime60-89DaysPastDueNotWorse</th>\n",
              "      <th>NumberOfDependents</th>\n",
              "    </tr>\n",
              "  </thead>\n",
              "  <tbody>\n",
              "    <tr>\n",
              "      <th>0</th>\n",
              "      <td>0.766127</td>\n",
              "      <td>45.0</td>\n",
              "      <td>2.0</td>\n",
              "      <td>0.802982</td>\n",
              "      <td>9120.0</td>\n",
              "      <td>13.0</td>\n",
              "      <td>0.0</td>\n",
              "      <td>6.0</td>\n",
              "      <td>0.0</td>\n",
              "      <td>2.0</td>\n",
              "    </tr>\n",
              "    <tr>\n",
              "      <th>1</th>\n",
              "      <td>0.957151</td>\n",
              "      <td>40.0</td>\n",
              "      <td>0.0</td>\n",
              "      <td>0.121876</td>\n",
              "      <td>2600.0</td>\n",
              "      <td>4.0</td>\n",
              "      <td>0.0</td>\n",
              "      <td>0.0</td>\n",
              "      <td>0.0</td>\n",
              "      <td>1.0</td>\n",
              "    </tr>\n",
              "    <tr>\n",
              "      <th>2</th>\n",
              "      <td>0.658180</td>\n",
              "      <td>38.0</td>\n",
              "      <td>1.0</td>\n",
              "      <td>0.085113</td>\n",
              "      <td>3042.0</td>\n",
              "      <td>2.0</td>\n",
              "      <td>1.0</td>\n",
              "      <td>0.0</td>\n",
              "      <td>0.0</td>\n",
              "      <td>0.0</td>\n",
              "    </tr>\n",
              "    <tr>\n",
              "      <th>3</th>\n",
              "      <td>0.233810</td>\n",
              "      <td>30.0</td>\n",
              "      <td>0.0</td>\n",
              "      <td>0.036050</td>\n",
              "      <td>3300.0</td>\n",
              "      <td>5.0</td>\n",
              "      <td>0.0</td>\n",
              "      <td>0.0</td>\n",
              "      <td>0.0</td>\n",
              "      <td>0.0</td>\n",
              "    </tr>\n",
              "    <tr>\n",
              "      <th>4</th>\n",
              "      <td>0.907239</td>\n",
              "      <td>49.0</td>\n",
              "      <td>1.0</td>\n",
              "      <td>0.024926</td>\n",
              "      <td>63588.0</td>\n",
              "      <td>7.0</td>\n",
              "      <td>0.0</td>\n",
              "      <td>1.0</td>\n",
              "      <td>0.0</td>\n",
              "      <td>0.0</td>\n",
              "    </tr>\n",
              "  </tbody>\n",
              "</table>\n",
              "</div>"
            ],
            "text/plain": [
              "   RevolvingUtilizationOfUnsecuredLines  ...  NumberOfDependents\n",
              "0                              0.766127  ...                 2.0\n",
              "1                              0.957151  ...                 1.0\n",
              "2                              0.658180  ...                 0.0\n",
              "3                              0.233810  ...                 0.0\n",
              "4                              0.907239  ...                 0.0\n",
              "\n",
              "[5 rows x 10 columns]"
            ]
          },
          "metadata": {
            "tags": []
          },
          "execution_count": 7
        }
      ]
    },
    {
      "cell_type": "code",
      "metadata": {
        "colab": {
          "base_uri": "https://localhost:8080/"
        },
        "id": "FDUaMce4Mn8y",
        "outputId": "18417449-d900-4c2e-d826-7ce205ed517b"
      },
      "source": [
        "# ingest data.target\n",
        "target = pd.DataFrame(pd.Series(data.target).value_counts(), columns=('Frequency',))\n",
        "target['%'] = target['Frequency'] / target['Frequency'].sum()\n",
        "target.index = ['Negative (Good Customers', 'Positive (Bad Customers']\n",
        "print(target)"
      ],
      "execution_count": 8,
      "outputs": [
        {
          "output_type": "stream",
          "text": [
            "                          Frequency         %\n",
            "Negative (Good Customers     105299  0.932551\n",
            "Positive (Bad Customers        7616  0.067449\n"
          ],
          "name": "stdout"
        }
      ]
    },
    {
      "cell_type": "code",
      "metadata": {
        "id": "tbXEfjhcNFqV"
      },
      "source": [
        "# based on information above, we know imbalanced data\n",
        "# we do some modelling\n",
        "from sklearn.ensemble import RandomForestClassifier\n",
        "from sklearn.linear_model import LogisticRegression\n",
        "from sklearn.tree import DecisionTreeClassifier\n",
        "import xgboost as xgb\n",
        "from sklearn.model_selection import train_test_split\n",
        "\n",
        "# splitting data\n",
        "X_train, X_test, y_train, y_test, cost_mat_train, cost_mat_test = train_test_split(data.data, data.target, data.cost_mat)\n",
        "\n",
        "# define modelling using training dataset\n",
        "clf = {\"RF\" : {\"f\": RandomForestClassifier()},\n",
        "       \"DT\" : {\"f\": DecisionTreeClassifier()},\n",
        "      \"LR\" : {\"f\": LogisticRegression(max_iter = 350)},\n",
        "       \"XGB\" : {\"f\": xgb.XGBClassifier(booster=\"gblinear\")}}\n",
        "\n",
        "# run fitting data\n",
        "for model in clf.keys():\n",
        "  # fit\n",
        "  clf[model][\"f\"].fit(X_train, y_train)\n",
        "  # predict result\n",
        "  clf[model][\"c\"] = clf[model][\"f\"].predict(X_test)\n",
        "  clf[model][\"p\"] = clf[model][\"f\"].predict_proba(X_test)\n",
        "  clf[model][\"p_train\"] = clf[model][\"f\"].predict_proba(X_train)"
      ],
      "execution_count": 20,
      "outputs": []
    },
    {
      "cell_type": "code",
      "metadata": {
        "colab": {
          "base_uri": "https://localhost:8080/",
          "height": 173
        },
        "id": "ZrlqhP4cPgRA",
        "outputId": "dd38da89-ebf9-458c-fcbc-b82452b76d23"
      },
      "source": [
        "# evaluate the model use metrics\n",
        "from sklearn.metrics import f1_score, precision_score, recall_score, accuracy_score\n",
        "measures = {\"f1\": f1_score, \"pre\": precision_score,\n",
        "            \"rec\": recall_score, \"acc\": accuracy_score}\n",
        "\n",
        "result = pd.DataFrame(columns=measures.keys())\n",
        "\n",
        "# evaluate each model\n",
        "for model in clf.keys():\n",
        "  result.loc[model] = [measures[measure](y_test, clf[model][\"c\"]) for measure in measures.keys()]\n",
        "\n",
        "result"
      ],
      "execution_count": 21,
      "outputs": [
        {
          "output_type": "execute_result",
          "data": {
            "text/html": [
              "<div>\n",
              "<style scoped>\n",
              "    .dataframe tbody tr th:only-of-type {\n",
              "        vertical-align: middle;\n",
              "    }\n",
              "\n",
              "    .dataframe tbody tr th {\n",
              "        vertical-align: top;\n",
              "    }\n",
              "\n",
              "    .dataframe thead th {\n",
              "        text-align: right;\n",
              "    }\n",
              "</style>\n",
              "<table border=\"1\" class=\"dataframe\">\n",
              "  <thead>\n",
              "    <tr style=\"text-align: right;\">\n",
              "      <th></th>\n",
              "      <th>f1</th>\n",
              "      <th>pre</th>\n",
              "      <th>rec</th>\n",
              "      <th>acc</th>\n",
              "    </tr>\n",
              "  </thead>\n",
              "  <tbody>\n",
              "    <tr>\n",
              "      <th>RF</th>\n",
              "      <td>0.274432</td>\n",
              "      <td>0.548644</td>\n",
              "      <td>0.182979</td>\n",
              "      <td>0.935563</td>\n",
              "    </tr>\n",
              "    <tr>\n",
              "      <th>DT</th>\n",
              "      <td>0.254761</td>\n",
              "      <td>0.238095</td>\n",
              "      <td>0.273936</td>\n",
              "      <td>0.893266</td>\n",
              "    </tr>\n",
              "    <tr>\n",
              "      <th>LR</th>\n",
              "      <td>0.062655</td>\n",
              "      <td>0.480916</td>\n",
              "      <td>0.033511</td>\n",
              "      <td>0.933225</td>\n",
              "    </tr>\n",
              "    <tr>\n",
              "      <th>XGB</th>\n",
              "      <td>0.023983</td>\n",
              "      <td>0.605263</td>\n",
              "      <td>0.012234</td>\n",
              "      <td>0.933685</td>\n",
              "    </tr>\n",
              "  </tbody>\n",
              "</table>\n",
              "</div>"
            ],
            "text/plain": [
              "           f1       pre       rec       acc\n",
              "RF   0.274432  0.548644  0.182979  0.935563\n",
              "DT   0.254761  0.238095  0.273936  0.893266\n",
              "LR   0.062655  0.480916  0.033511  0.933225\n",
              "XGB  0.023983  0.605263  0.012234  0.933685"
            ]
          },
          "metadata": {
            "tags": []
          },
          "execution_count": 21
        }
      ]
    },
    {
      "cell_type": "code",
      "metadata": {
        "colab": {
          "base_uri": "https://localhost:8080/",
          "height": 316
        },
        "id": "55hDQf4FRqrm",
        "outputId": "17a42158-63a8-41e1-e26b-39efebbf3ac4"
      },
      "source": [
        "# plot the results\n",
        "import matplotlib.pyplot as plt\n",
        "%matplotlib inline\n",
        "plt.style.use(\"bmh\")\n",
        "from IPython.core.pylabtools import figsize\n",
        "\n",
        "figsize(10, 5)\n",
        "ax = plt.subplot(111)\n",
        "\n",
        "ind = np.arange(result.shape[0])\n",
        "width = 0.2\n",
        "l = ax.plot(ind, result, \"-o\")\n",
        "plt.legend(iter(l), result.columns.tolist(), loc=\"center right\", bbox_to_anchor=(1, 0.5))\n",
        "ax.set_xlim([-0.25, ind[-1]+0.25])\n",
        "ax.set_xticks(ind)\n",
        "ax.set_xticklabels(result.index);"
      ],
      "execution_count": 23,
      "outputs": [
        {
          "output_type": "display_data",
          "data": {
            "image/png": "[encoded data removed]",
            "text/plain": [
              "<Figure size 720x360 with 1 Axes>"
            ]
          },
          "metadata": {
            "tags": [],
            "needs_background": "light"
          }
        }
      ]
    },
    {
      "cell_type": "markdown",
      "metadata": {
        "id": "VRaW1fKuUUGp"
      },
      "source": [
        "We got the evaluation of different models. Next steps, we can evaluate the model using standard cost-sensitive measures (It means costs of a correct classification). Let's check below:"
      ]
    },
    {
      "cell_type": "code",
      "metadata": {
        "colab": {
          "base_uri": "https://localhost:8080/"
        },
        "id": "pq0PiN9bUD6j",
        "outputId": "ca462420-4403-4e88-b211-442fbb339f8d"
      },
      "source": [
        "# calculate of the savings of the models\n",
        "# Dataset has already have cost matrix\n",
        "# NOTED : cost_mat[C_FP, C_FN, C_TP, C_TN]\n",
        "print(data.cost_mat[[10, 17, 50]])"
      ],
      "execution_count": 24,
      "outputs": [
        {
          "output_type": "stream",
          "text": [
            "[[ 1023.73054104 18750.             0.             0.        ]\n",
            " [  717.25781516  6749.25           0.             0.        ]\n",
            " [  866.65393177 12599.25           0.             0.        ]]\n"
          ],
          "name": "stdout"
        }
      ]
    },
    {
      "cell_type": "code",
      "metadata": {
        "colab": {
          "base_uri": "https://localhost:8080/",
          "height": 173
        },
        "id": "iAmQOMQwVCXY",
        "outputId": "3c24d29e-f64b-46e4-8f7c-f6b1e22f815d"
      },
      "source": [
        "# calculate through by the model\n",
        "from costcla.metrics import savings_score, cost_loss\n",
        "# evaluate the savings for each model\n",
        "result[\"sav\"] = np.zeros(result.shape[0])\n",
        "for model in clf.keys():\n",
        "  result[\"sav\"].loc[model] = savings_score(y_test, clf[model][\"c\"], cost_mat_test)\n",
        "\n",
        "# show\n",
        "result"
      ],
      "execution_count": 25,
      "outputs": [
        {
          "output_type": "execute_result",
          "data": {
            "text/html": [
              "<div>\n",
              "<style scoped>\n",
              "    .dataframe tbody tr th:only-of-type {\n",
              "        vertical-align: middle;\n",
              "    }\n",
              "\n",
              "    .dataframe tbody tr th {\n",
              "        vertical-align: top;\n",
              "    }\n",
              "\n",
              "    .dataframe thead th {\n",
              "        text-align: right;\n",
              "    }\n",
              "</style>\n",
              "<table border=\"1\" class=\"dataframe\">\n",
              "  <thead>\n",
              "    <tr style=\"text-align: right;\">\n",
              "      <th></th>\n",
              "      <th>f1</th>\n",
              "      <th>pre</th>\n",
              "      <th>rec</th>\n",
              "      <th>acc</th>\n",
              "      <th>sav</th>\n",
              "    </tr>\n",
              "  </thead>\n",
              "  <tbody>\n",
              "    <tr>\n",
              "      <th>RF</th>\n",
              "      <td>0.274432</td>\n",
              "      <td>0.548644</td>\n",
              "      <td>0.182979</td>\n",
              "      <td>0.935563</td>\n",
              "      <td>0.152293</td>\n",
              "    </tr>\n",
              "    <tr>\n",
              "      <th>DT</th>\n",
              "      <td>0.254761</td>\n",
              "      <td>0.238095</td>\n",
              "      <td>0.273936</td>\n",
              "      <td>0.893266</td>\n",
              "      <td>0.192730</td>\n",
              "    </tr>\n",
              "    <tr>\n",
              "      <th>LR</th>\n",
              "      <td>0.062655</td>\n",
              "      <td>0.480916</td>\n",
              "      <td>0.033511</td>\n",
              "      <td>0.933225</td>\n",
              "      <td>0.022439</td>\n",
              "    </tr>\n",
              "    <tr>\n",
              "      <th>XGB</th>\n",
              "      <td>0.023983</td>\n",
              "      <td>0.605263</td>\n",
              "      <td>0.012234</td>\n",
              "      <td>0.933685</td>\n",
              "      <td>0.004584</td>\n",
              "    </tr>\n",
              "  </tbody>\n",
              "</table>\n",
              "</div>"
            ],
            "text/plain": [
              "           f1       pre       rec       acc       sav\n",
              "RF   0.274432  0.548644  0.182979  0.935563  0.152293\n",
              "DT   0.254761  0.238095  0.273936  0.893266  0.192730\n",
              "LR   0.062655  0.480916  0.033511  0.933225  0.022439\n",
              "XGB  0.023983  0.605263  0.012234  0.933685  0.004584"
            ]
          },
          "metadata": {
            "tags": []
          },
          "execution_count": 25
        }
      ]
    },
    {
      "cell_type": "code",
      "metadata": {
        "colab": {
          "base_uri": "https://localhost:8080/",
          "height": 316
        },
        "id": "9-3RGQKAVtgy",
        "outputId": "f637b269-bd6a-4bd7-a887-5f42fc5f4893"
      },
      "source": [
        "# plot dataset above\n",
        "\n",
        "figsize(10, 5)\n",
        "ax = plt.subplot(111)\n",
        "l = ax.plot(ind, result[\"f1\"], \"-o\", label=\"F1Score\", c=\"C1\")\n",
        "b = ax.bar(ind, result[\"sav\"], 0.6, label=\"Savings\")\n",
        "plt.legend(loc=\"center right\", bbox_to_anchor=(1, 0.5))\n",
        "\n",
        "ax.set_xlim([-0.5, ind[-1]+0.5])\n",
        "ax.set_xticks(ind)\n",
        "ax.set_xticklabels(result.index);"
      ],
      "execution_count": 26,
      "outputs": [
        {
          "output_type": "display_data",
          "data": {
            "image/png": "[encoded data removed]",
            "text/plain": [
              "<Figure size 720x360 with 1 Axes>"
            ]
          },
          "metadata": {
            "tags": [],
            "needs_background": "light"
          }
        }
      ]
    },
    {
      "cell_type": "markdown",
      "metadata": {
        "id": "-kfI2U8WWhHY"
      },
      "source": [
        "There are significant differences in the results when evaluating a model using a traditional cost-insensitive measure such as the accuracy or F1Score, than when using the savings, leading to the conclusion of the importance of using the real practical financial costs of each context."
      ]
    },
    {
      "cell_type": "code",
      "metadata": {
        "colab": {
          "base_uri": "https://localhost:8080/",
          "height": 297
        },
        "id": "gQwtShA5Wbgb",
        "outputId": "117a8849-6f33-490b-9eff-1a40569ed56b"
      },
      "source": [
        "# Bayes Minimum Risk\n",
        "from costcla.models import BayesMinimumRiskClassifier\n",
        "ci_models = list(clf.keys())\n",
        "\n",
        "for model in ci_models:\n",
        "  clf[model+\"-BMR\"] = {\"f\": BayesMinimumRiskClassifier()}\n",
        "  # fitting data\n",
        "  clf[model+\"-BMR\"][\"f\"].fit(y_test, clf[model][\"p\"])\n",
        "  # calibrating and predict\n",
        "  clf[model+\"-BMR\"][\"c\"] = clf[model+\"-BMR\"][\"f\"].predict(clf[model][\"p\"], cost_mat_test)\n",
        "  # evaluating model\n",
        "  result.loc[model+\"-BMR\"] = 0\n",
        "  result.loc[model+\"-BMR\", measures.keys()] = [measures[measure](y_test, clf[model+\"-BMR\"][\"c\"]) for measure in measures.keys()]\n",
        "  result[\"sav\"].loc[model+\"-BMR\"] = savings_score(y_test, clf[model+\"-BMR\"][\"c\"], cost_mat_test)\n",
        "\n",
        "# show data\n",
        "result"
      ],
      "execution_count": 27,
      "outputs": [
        {
          "output_type": "execute_result",
          "data": {
            "text/html": [
              "<div>\n",
              "<style scoped>\n",
              "    .dataframe tbody tr th:only-of-type {\n",
              "        vertical-align: middle;\n",
              "    }\n",
              "\n",
              "    .dataframe tbody tr th {\n",
              "        vertical-align: top;\n",
              "    }\n",
              "\n",
              "    .dataframe thead th {\n",
              "        text-align: right;\n",
              "    }\n",
              "</style>\n",
              "<table border=\"1\" class=\"dataframe\">\n",
              "  <thead>\n",
              "    <tr style=\"text-align: right;\">\n",
              "      <th></th>\n",
              "      <th>f1</th>\n",
              "      <th>pre</th>\n",
              "      <th>rec</th>\n",
              "      <th>acc</th>\n",
              "      <th>sav</th>\n",
              "    </tr>\n",
              "  </thead>\n",
              "  <tbody>\n",
              "    <tr>\n",
              "      <th>RF</th>\n",
              "      <td>0.274432</td>\n",
              "      <td>0.548644</td>\n",
              "      <td>0.182979</td>\n",
              "      <td>0.935563</td>\n",
              "      <td>0.152293</td>\n",
              "    </tr>\n",
              "    <tr>\n",
              "      <th>DT</th>\n",
              "      <td>0.254761</td>\n",
              "      <td>0.238095</td>\n",
              "      <td>0.273936</td>\n",
              "      <td>0.893266</td>\n",
              "      <td>0.192730</td>\n",
              "    </tr>\n",
              "    <tr>\n",
              "      <th>LR</th>\n",
              "      <td>0.062655</td>\n",
              "      <td>0.480916</td>\n",
              "      <td>0.033511</td>\n",
              "      <td>0.933225</td>\n",
              "      <td>0.022439</td>\n",
              "    </tr>\n",
              "    <tr>\n",
              "      <th>XGB</th>\n",
              "      <td>0.023983</td>\n",
              "      <td>0.605263</td>\n",
              "      <td>0.012234</td>\n",
              "      <td>0.933685</td>\n",
              "      <td>0.004584</td>\n",
              "    </tr>\n",
              "    <tr>\n",
              "      <th>RF-BMR</th>\n",
              "      <td>0.324878</td>\n",
              "      <td>0.213972</td>\n",
              "      <td>0.674468</td>\n",
              "      <td>0.813313</td>\n",
              "      <td>0.478396</td>\n",
              "    </tr>\n",
              "    <tr>\n",
              "      <th>DT-BMR</th>\n",
              "      <td>0.138042</td>\n",
              "      <td>0.082966</td>\n",
              "      <td>0.410638</td>\n",
              "      <td>0.658472</td>\n",
              "      <td>0.098625</td>\n",
              "    </tr>\n",
              "    <tr>\n",
              "      <th>LR-BMR</th>\n",
              "      <td>0.196260</td>\n",
              "      <td>0.122980</td>\n",
              "      <td>0.485638</td>\n",
              "      <td>0.735095</td>\n",
              "      <td>0.231348</td>\n",
              "    </tr>\n",
              "    <tr>\n",
              "      <th>XGB-BMR</th>\n",
              "      <td>0.160410</td>\n",
              "      <td>0.092800</td>\n",
              "      <td>0.590957</td>\n",
              "      <td>0.588012</td>\n",
              "      <td>0.163924</td>\n",
              "    </tr>\n",
              "  </tbody>\n",
              "</table>\n",
              "</div>"
            ],
            "text/plain": [
              "               f1       pre       rec       acc       sav\n",
              "RF       0.274432  0.548644  0.182979  0.935563  0.152293\n",
              "DT       0.254761  0.238095  0.273936  0.893266  0.192730\n",
              "LR       0.062655  0.480916  0.033511  0.933225  0.022439\n",
              "XGB      0.023983  0.605263  0.012234  0.933685  0.004584\n",
              "RF-BMR   0.324878  0.213972  0.674468  0.813313  0.478396\n",
              "DT-BMR   0.138042  0.082966  0.410638  0.658472  0.098625\n",
              "LR-BMR   0.196260  0.122980  0.485638  0.735095  0.231348\n",
              "XGB-BMR  0.160410  0.092800  0.590957  0.588012  0.163924"
            ]
          },
          "metadata": {
            "tags": []
          },
          "execution_count": 27
        }
      ]
    },
    {
      "cell_type": "code",
      "metadata": {
        "colab": {
          "base_uri": "https://localhost:8080/",
          "height": 319
        },
        "id": "YPNue-wAX3P_",
        "outputId": "b9b8ba9c-8f35-49fb-a0f8-e1513ac1be26"
      },
      "source": [
        "# plot dataset above\n",
        "\n",
        "ind = np.arange(result.shape[0])\n",
        "figsize(10, 5)\n",
        "ax = plt.subplot(111)\n",
        "l = ax.plot(ind, result[\"f1\"], \"-o\", label=\"F1Score\", c=\"C1\")\n",
        "b = ax.bar(ind, result[\"sav\"], 0.6, label=\"Savings\")\n",
        "plt.legend(loc=\"center right\", bbox_to_anchor=(1, 0.5))\n",
        "\n",
        "ax.set_xlim([-0.5, ind[-1]+0.5])\n",
        "ax.set_xticks(ind)\n",
        "ax.set_xticklabels(result.index);"
      ],
      "execution_count": 29,
      "outputs": [
        {
          "output_type": "display_data",
          "data": {
            "image/png": "[encoded data removed]",
            "text/plain": [
              "<Figure size 720x360 with 1 Axes>"
            ]
          },
          "metadata": {
            "tags": [],
            "needs_background": "light"
          }
        }
      ]
    },
    {
      "cell_type": "code",
      "metadata": {
        "colab": {
          "base_uri": "https://localhost:8080/",
          "height": 328
        },
        "id": "N6E-NGyRX-dL",
        "outputId": "91d9da45-5af6-4e3f-fdc2-9d6b61d653a2"
      },
      "source": [
        "# cost sensitive decision trees\n",
        "from costcla.models import CostSensitiveDecisionTreeClassifier\n",
        "\n",
        "clf[\"CSDT\"] = {\"f\": CostSensitiveDecisionTreeClassifier()}\n",
        "# Fitting data\n",
        "clf[\"CSDT\"][\"f\"].fit(X_train, y_train, cost_mat_train)\n",
        "# Predicting data\n",
        "clf[\"CSDT\"][\"c\"] = clf[\"CSDT\"][\"f\"].predict(X_test)\n",
        "# Evaluating model\n",
        "result.loc[\"CSDT\"] = 0\n",
        "result.loc[\"CSDT\", measures.keys()] = \\\n",
        "[measures[measure](y_test, clf[\"CSDT\"][\"c\"]) for measure in measures.keys()]\n",
        "result[\"sav\"].loc[\"CSDT\"] = savings_score(y_test, clf[\"CSDT\"][\"c\"], cost_mat_test)\n",
        "    \n",
        "result"
      ],
      "execution_count": 31,
      "outputs": [
        {
          "output_type": "execute_result",
          "data": {
            "text/html": [
              "<div>\n",
              "<style scoped>\n",
              "    .dataframe tbody tr th:only-of-type {\n",
              "        vertical-align: middle;\n",
              "    }\n",
              "\n",
              "    .dataframe tbody tr th {\n",
              "        vertical-align: top;\n",
              "    }\n",
              "\n",
              "    .dataframe thead th {\n",
              "        text-align: right;\n",
              "    }\n",
              "</style>\n",
              "<table border=\"1\" class=\"dataframe\">\n",
              "  <thead>\n",
              "    <tr style=\"text-align: right;\">\n",
              "      <th></th>\n",
              "      <th>f1</th>\n",
              "      <th>pre</th>\n",
              "      <th>rec</th>\n",
              "      <th>acc</th>\n",
              "      <th>sav</th>\n",
              "    </tr>\n",
              "  </thead>\n",
              "  <tbody>\n",
              "    <tr>\n",
              "      <th>RF</th>\n",
              "      <td>0.274432</td>\n",
              "      <td>0.548644</td>\n",
              "      <td>0.182979</td>\n",
              "      <td>0.935563</td>\n",
              "      <td>0.152293</td>\n",
              "    </tr>\n",
              "    <tr>\n",
              "      <th>DT</th>\n",
              "      <td>0.254761</td>\n",
              "      <td>0.238095</td>\n",
              "      <td>0.273936</td>\n",
              "      <td>0.893266</td>\n",
              "      <td>0.192730</td>\n",
              "    </tr>\n",
              "    <tr>\n",
              "      <th>LR</th>\n",
              "      <td>0.062655</td>\n",
              "      <td>0.480916</td>\n",
              "      <td>0.033511</td>\n",
              "      <td>0.933225</td>\n",
              "      <td>0.022439</td>\n",
              "    </tr>\n",
              "    <tr>\n",
              "      <th>XGB</th>\n",
              "      <td>0.023983</td>\n",
              "      <td>0.605263</td>\n",
              "      <td>0.012234</td>\n",
              "      <td>0.933685</td>\n",
              "      <td>0.004584</td>\n",
              "    </tr>\n",
              "    <tr>\n",
              "      <th>RF-BMR</th>\n",
              "      <td>0.324878</td>\n",
              "      <td>0.213972</td>\n",
              "      <td>0.674468</td>\n",
              "      <td>0.813313</td>\n",
              "      <td>0.478396</td>\n",
              "    </tr>\n",
              "    <tr>\n",
              "      <th>DT-BMR</th>\n",
              "      <td>0.138042</td>\n",
              "      <td>0.082966</td>\n",
              "      <td>0.410638</td>\n",
              "      <td>0.658472</td>\n",
              "      <td>0.098625</td>\n",
              "    </tr>\n",
              "    <tr>\n",
              "      <th>LR-BMR</th>\n",
              "      <td>0.196260</td>\n",
              "      <td>0.122980</td>\n",
              "      <td>0.485638</td>\n",
              "      <td>0.735095</td>\n",
              "      <td>0.231348</td>\n",
              "    </tr>\n",
              "    <tr>\n",
              "      <th>XGB-BMR</th>\n",
              "      <td>0.160410</td>\n",
              "      <td>0.092800</td>\n",
              "      <td>0.590957</td>\n",
              "      <td>0.588012</td>\n",
              "      <td>0.163924</td>\n",
              "    </tr>\n",
              "    <tr>\n",
              "      <th>CSDT</th>\n",
              "      <td>0.274834</td>\n",
              "      <td>0.165735</td>\n",
              "      <td>0.804255</td>\n",
              "      <td>0.717347</td>\n",
              "      <td>0.475814</td>\n",
              "    </tr>\n",
              "  </tbody>\n",
              "</table>\n",
              "</div>"
            ],
            "text/plain": [
              "               f1       pre       rec       acc       sav\n",
              "RF       0.274432  0.548644  0.182979  0.935563  0.152293\n",
              "DT       0.254761  0.238095  0.273936  0.893266  0.192730\n",
              "LR       0.062655  0.480916  0.033511  0.933225  0.022439\n",
              "XGB      0.023983  0.605263  0.012234  0.933685  0.004584\n",
              "RF-BMR   0.324878  0.213972  0.674468  0.813313  0.478396\n",
              "DT-BMR   0.138042  0.082966  0.410638  0.658472  0.098625\n",
              "LR-BMR   0.196260  0.122980  0.485638  0.735095  0.231348\n",
              "XGB-BMR  0.160410  0.092800  0.590957  0.588012  0.163924\n",
              "CSDT     0.274834  0.165735  0.804255  0.717347  0.475814"
            ]
          },
          "metadata": {
            "tags": []
          },
          "execution_count": 31
        }
      ]
    },
    {
      "cell_type": "code",
      "metadata": {
        "colab": {
          "base_uri": "https://localhost:8080/",
          "height": 319
        },
        "id": "T6Y5N6wXY2WU",
        "outputId": "151d0afb-a071-40d6-dafb-0acfd1887b04"
      },
      "source": [
        "# plot dataset above\n",
        "\n",
        "ind = np.arange(result.shape[0])\n",
        "figsize(10, 5)\n",
        "ax = plt.subplot(111)\n",
        "l = ax.plot(ind, result[\"f1\"], \"-o\", label=\"F1Score\", c=\"C1\")\n",
        "b = ax.bar(ind, result[\"sav\"], 0.6, label=\"Savings\")\n",
        "plt.legend(loc=\"center right\", bbox_to_anchor=(1, 0.5))\n",
        "\n",
        "ax.set_xlim([-0.5, ind[-1]+0.5])\n",
        "ax.set_xticks(ind)\n",
        "ax.set_xticklabels(result.index);"
      ],
      "execution_count": 32,
      "outputs": [
        {
          "output_type": "display_data",
          "data": {
            "image/png": "[encoded data removed]",
            "text/plain": [
              "<Figure size 720x360 with 1 Axes>"
            ]
          },
          "metadata": {
            "tags": [],
            "needs_background": "light"
          }
        }
      ]
    },
    {
      "cell_type": "markdown",
      "metadata": {
        "id": "BBByNe_gYyG_"
      },
      "source": [
        "CostCla is a easy to use Python library for example-dependent cost-sensitive classification problems. It includes many example-dependent cost-sensitive algorithms. Since it is part of the scientific Python ecosystem, it can be easily integrated with other machine learning libraries."
      ]
    }
  ]
}